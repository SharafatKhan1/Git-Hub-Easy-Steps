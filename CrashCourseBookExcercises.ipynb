{
  "nbformat": 4,
  "nbformat_minor": 0,
  "metadata": {
    "colab": {
      "name": "CrashCourseBookExcercises.ipynb",
      "provenance": [],
      "collapsed_sections": [
        "R5AjZ9MHWKHE",
        "B0iN5PlQYkIC",
        "1CECuR8Gg1Ga",
        "X_WtcYRPhvor",
        "QceVJ9osipbZ"
      ],
      "toc_visible": true,
      "authorship_tag": "ABX9TyMnaY9C7SCRiLHz70QGfDss",
      "include_colab_link": true
    },
    "kernelspec": {
      "name": "python3",
      "display_name": "Python 3"
    }
  },
  "cells": [
    {
      "cell_type": "markdown",
      "metadata": {
        "id": "view-in-github",
        "colab_type": "text"
      },
      "source": [
        "<a href=\"https://colab.research.google.com/github/SharafatKhan1/Git-Hub-Easy-Steps/blob/master/CrashCourseBookExcercises.ipynb\" target=\"_parent\"><img src=\"https://colab.research.google.com/assets/colab-badge.svg\" alt=\"Open In Colab\"/></a>"
      ]
    },
    {
      "cell_type": "markdown",
      "metadata": {
        "id": "4mHrcJhbbsby"
      },
      "source": [
        ""
      ]
    },
    {
      "cell_type": "markdown",
      "metadata": {
        "id": "KCiFM8Q2Nxd7"
      },
      "source": [
        "# Chap No.2"
      ]
    },
    {
      "cell_type": "markdown",
      "metadata": {
        "id": "T8boYRGTH_ee"
      },
      "source": [
        "# Strings"
      ]
    },
    {
      "cell_type": "code",
      "metadata": {
        "colab": {
          "base_uri": "https://localhost:8080/"
        },
        "id": "biH8beh_KW4A",
        "outputId": "7c8988a2-f2e8-4606-9d80-9e4df4964b15"
      },
      "source": [
        "name = 'sharafat khan'\r\n",
        "print(\"Title: \", name.title())\r\n",
        "print(\"Count: \", name.count('a'))\r\n",
        "print(\"Upper Case: \", name.upper())\r\n",
        "print(\"Lower Case: \", name.lower())\r\n",
        "print(\"Split: \", name.split(\" \"))\r\n",
        "name_Split = name.split(' ')"
      ],
      "execution_count": null,
      "outputs": [
        {
          "output_type": "stream",
          "text": [
            "Title:  Sharafat Khan\n",
            "Count:  4\n",
            "Upper Case:  SHARAFAT KHAN\n",
            "Lower Case:  sharafat khan\n",
            "Split:  ['sharafat', 'khan']\n"
          ],
          "name": "stdout"
        }
      ]
    },
    {
      "cell_type": "code",
      "metadata": {
        "colab": {
          "base_uri": "https://localhost:8080/"
        },
        "id": "z3VX0NRdKo1W",
        "outputId": "49b4e14b-4704-4eb8-ae2d-7ba025a87004"
      },
      "source": [
        "userName = ' sharafat '\r\n",
        "\r\n",
        "# Strip() => removes White spaces from string\r\n",
        "print('Without Strip(): ', userName)\r\n",
        "print('With Strip(): ', userName.strip())"
      ],
      "execution_count": null,
      "outputs": [
        {
          "output_type": "stream",
          "text": [
            "Without Strip():   sharafat \n",
            "With Strip():  sharafat\n"
          ],
          "name": "stdout"
        }
      ]
    },
    {
      "cell_type": "markdown",
      "metadata": {
        "id": "R5AjZ9MHWKHE"
      },
      "source": [
        "# 2.3 Personal Message"
      ]
    },
    {
      "cell_type": "code",
      "metadata": {
        "colab": {
          "base_uri": "https://localhost:8080/"
        },
        "id": "s954iagoRj9C",
        "outputId": "fe1500eb-f33d-40de-85e8-11c59b3fe797"
      },
      "source": [
        "person_Name = \"Sharafat Khan\"\r\n",
        "print('Hello ' + person_Name +', would you like to learn some python code today?')"
      ],
      "execution_count": null,
      "outputs": [
        {
          "output_type": "stream",
          "text": [
            "Hello Sharafat Khan, would you like to learn some python code today?\n"
          ],
          "name": "stdout"
        }
      ]
    },
    {
      "cell_type": "code",
      "metadata": {
        "id": "od8yAVKxWOm0"
      },
      "source": [
        ""
      ],
      "execution_count": null,
      "outputs": []
    },
    {
      "cell_type": "markdown",
      "metadata": {
        "id": "B0iN5PlQYkIC"
      },
      "source": [
        "# 2.4 Name Cases"
      ]
    },
    {
      "cell_type": "code",
      "metadata": {
        "colab": {
          "base_uri": "https://localhost:8080/"
        },
        "id": "XYQiF8-eYnAl",
        "outputId": "31c3d35b-a5e5-4b5a-d7e6-812d060748f5"
      },
      "source": [
        "nameCases = 'sharaFat khAn'\r\n",
        "print(\"Actual String: \", nameCases + '\\n')\r\n",
        "print(\"Lower Case: \",nameCases.lower()  + '\\n')\r\n",
        "print(\"Upper Case: \", nameCases.upper() + '\\n')\r\n",
        "print(\"Title: \", nameCases.title())\r\n"
      ],
      "execution_count": null,
      "outputs": [
        {
          "output_type": "stream",
          "text": [
            "Actual String:  sharaFat khAn\n",
            "\n",
            "Lower Case:  sharafat khan\n",
            "\n",
            "Upper Case:  SHARAFAT KHAN\n",
            "\n",
            "Title:  Sharafat Khan\n"
          ],
          "name": "stdout"
        }
      ]
    },
    {
      "cell_type": "code",
      "metadata": {
        "id": "86B2rO5xfsyT"
      },
      "source": [
        ""
      ],
      "execution_count": null,
      "outputs": []
    },
    {
      "cell_type": "markdown",
      "metadata": {
        "id": "1CECuR8Gg1Ga"
      },
      "source": [
        "# 2.5 . Famous Quote"
      ]
    },
    {
      "cell_type": "code",
      "metadata": {
        "colab": {
          "base_uri": "https://localhost:8080/"
        },
        "id": "_hAolPlFg3ih",
        "outputId": "cf81438d-4796-4b0c-df79-3a101f1540b5"
      },
      "source": [
        "famousQuote = 'Alber Einstein once said, \"A person who never made a mistak never tried something new.\" '\r\n",
        "print(famousQuote)"
      ],
      "execution_count": null,
      "outputs": [
        {
          "output_type": "stream",
          "text": [
            "Alber Einstein once said, \"A person who never made a mistak never tried something new.\" \n"
          ],
          "name": "stdout"
        }
      ]
    },
    {
      "cell_type": "markdown",
      "metadata": {
        "id": "X_WtcYRPhvor"
      },
      "source": [
        "#2.6 Famous Quote 2"
      ]
    },
    {
      "cell_type": "code",
      "metadata": {
        "colab": {
          "base_uri": "https://localhost:8080/"
        },
        "id": "owWYe_uJhySv",
        "outputId": "a269c2ae-ecf7-4b01-9b2d-233ae2d4cbc1"
      },
      "source": [
        "famousPersonName = 'Alber Einstein'\r\n",
        "message = famousPersonName + 'once said, \"A person who never made a mistak never tried something new.\"'\r\n",
        "print(message)"
      ],
      "execution_count": null,
      "outputs": [
        {
          "output_type": "stream",
          "text": [
            "Alber Einsteinonce said, \"A person who never made a mistak never tried something new.\"\n"
          ],
          "name": "stdout"
        }
      ]
    },
    {
      "cell_type": "markdown",
      "metadata": {
        "id": "QceVJ9osipbZ"
      },
      "source": [
        "# 2.7 Stripping Names"
      ]
    },
    {
      "cell_type": "code",
      "metadata": {
        "colab": {
          "base_uri": "https://localhost:8080/"
        },
        "id": "A_RDiirMitwM",
        "outputId": "74608007-167e-4fa9-ec8a-52f4695f3e9d"
      },
      "source": [
        "strippingName = '  Sharafat Khan  '\r\n",
        "print(\"Actual Name: \", \"'\"+ strippingName + \"'\\n\")\r\n",
        "print('Left Strip:', \"'\"+ strippingName.lstrip() + \"'\\n\")\r\n",
        "print('Right Strip:', \"'\"+ strippingName.rstrip() + \"'\\n\" )\r\n",
        "print('Strip:', \"'\"+ strippingName.strip() +\"'\")"
      ],
      "execution_count": null,
      "outputs": [
        {
          "output_type": "stream",
          "text": [
            "Actual Name:  '  Sharafat Khan  '\n",
            "\n",
            "Left Strip: 'Sharafat Khan  '\n",
            "\n",
            "Right Strip: '  Sharafat Khan'\n",
            "\n",
            "Strip: 'Sharafat Khan'\n"
          ],
          "name": "stdout"
        }
      ]
    },
    {
      "cell_type": "code",
      "metadata": {
        "id": "B78fvJgti-kN",
        "colab": {
          "base_uri": "https://localhost:8080/"
        },
        "outputId": "a9baa478-ad72-4f12-b14c-5a913b0b449a"
      },
      "source": [
        "age = 23\r\n",
        "message = \"Happy \" + str(age) + \"rd birthday!\"\r\n",
        "print(message)"
      ],
      "execution_count": null,
      "outputs": [
        {
          "output_type": "stream",
          "text": [
            "Happy 23rd birthday!\n"
          ],
          "name": "stdout"
        }
      ]
    },
    {
      "cell_type": "markdown",
      "metadata": {
        "id": "ElQe8D1rBHKg"
      },
      "source": [
        "# Numbers"
      ]
    },
    {
      "cell_type": "markdown",
      "metadata": {
        "id": "CD-2sgzIJFO7"
      },
      "source": [
        "# 2.8"
      ]
    },
    {
      "cell_type": "code",
      "metadata": {
        "colab": {
          "base_uri": "https://localhost:8080/"
        },
        "id": "LNQG5YHFIOmO",
        "outputId": "89b3c567-e7ad-4286-e2ca-90bf35469bf4"
      },
      "source": [
        "print(\"Addition: \",5 + 3)\r\n",
        "print(\"Subtraction:\", 10 - 2)\r\n",
        "print(\"Multiplication: \", 2 * 4)\r\n",
        "print(\"Division: \", 16 // 2)"
      ],
      "execution_count": null,
      "outputs": [
        {
          "output_type": "stream",
          "text": [
            "Addition:  8\n",
            "Subtraction: 8\n",
            "Multiplication:  8\n",
            "Division:  8\n"
          ],
          "name": "stdout"
        }
      ]
    },
    {
      "cell_type": "code",
      "metadata": {
        "id": "KDrNlMv5zGbx"
      },
      "source": [
        "import this"
      ],
      "execution_count": null,
      "outputs": []
    },
    {
      "cell_type": "markdown",
      "metadata": {
        "id": "icEmghTn7UR0"
      },
      "source": [
        "# Chap No.3 List"
      ]
    },
    {
      "cell_type": "markdown",
      "metadata": {
        "id": "37RiGxBD7nBZ"
      },
      "source": [
        "# 3.1"
      ]
    },
    {
      "cell_type": "code",
      "metadata": {
        "id": "QnrJ4lwSzK2K"
      },
      "source": [
        "names = ['Yaseen', 'Fayyaz', 'Talha', 'Abbas']"
      ],
      "execution_count": null,
      "outputs": []
    },
    {
      "cell_type": "code",
      "metadata": {
        "colab": {
          "base_uri": "https://localhost:8080/"
        },
        "id": "7MgI89gd7Z3Q",
        "outputId": "308e29cf-67db-4c44-ebf5-c50d99332948"
      },
      "source": [
        "print(\"Friend Name is: \", names[0])\r\n",
        "print(\"Friend Name is: \", names[1])\r\n",
        "print(\"Friend Name is: \", names[2])\r\n",
        "print(\"Friend Name is: \", names[3])"
      ],
      "execution_count": null,
      "outputs": [
        {
          "output_type": "stream",
          "text": [
            "Friend Name is:  Yaseen\n",
            "Friend Name is:  Fayyaz\n",
            "Friend Name is:  Talha\n",
            "Friend Name is:  Abbas\n"
          ],
          "name": "stdout"
        }
      ]
    },
    {
      "cell_type": "code",
      "metadata": {
        "id": "q6ZYm72n77bn",
        "colab": {
          "base_uri": "https://localhost:8080/"
        },
        "outputId": "005da2d4-f10b-4414-f90d-64d82acdc570"
      },
      "source": [
        "message = \"Hello, have a nice day \"\r\n",
        "print(message + names[0])\r\n",
        "print(message + names[1])\r\n",
        "print(message + names[2])\r\n",
        "print(message + names[3])"
      ],
      "execution_count": null,
      "outputs": [
        {
          "output_type": "stream",
          "text": [
            "Hello, have a nice day Yaseen\n",
            "Hello, have a nice day Fayyaz\n",
            "Hello, have a nice day Talha\n",
            "Hello, have a nice day Abbas\n"
          ],
          "name": "stdout"
        }
      ]
    },
    {
      "cell_type": "code",
      "metadata": {
        "id": "VoehRkrlXHY4"
      },
      "source": [
        ""
      ],
      "execution_count": null,
      "outputs": []
    }
  ]
}